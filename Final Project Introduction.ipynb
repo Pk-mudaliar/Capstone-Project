{
 "cells": [
  {
   "cell_type": "markdown",
   "metadata": {},
   "source": [
    " # IBM DATA SCIENCE CAPSTONE PROJECT"
   ]
  },
  {
   "cell_type": "markdown",
   "metadata": {},
   "source": [
    "## To open a new South Indian Restaurant in Toronto,Canada"
   ]
  },
  {
   "cell_type": "markdown",
   "metadata": {},
   "source": [
    "## Introduction"
   ]
  },
  {
   "cell_type": "markdown",
   "metadata": {},
   "source": [
    ">For this project, I am assuming a hypothetical scenario of a concept Indian entrepreneur who wants to explore opening a reliable South Indian restaurant in Toronto, Canada. The idea behind this project is that there may not be enough Indian restaurants in Toronto and it might present a great opportunity for this entrepreneur who is based in Toronto. The entrepreneur wants to open the restaurant near other Indian restaurants because people who like Indian food may tend to like south Indian food. Finding the location to open the restaurant is the most important and crucial decision for the entrepreneur and this project is all about helping him find the optimal location."
   ]
  },
  {
   "cell_type": "markdown",
   "metadata": {},
   "source": [
    "## Bussiness Problem"
   ]
  },
  {
   "cell_type": "markdown",
   "metadata": {},
   "source": [
    ">The objective of this project is to find the most suitable location for the entrepreneur to open a new South Indian restaurant in Toronto, Canada.By using Data analysis, and machine learning algorithms like clustering, this project aims to provide solutions to answer to the business problem: In Toronto, if an entrepreneur wants to open a new South Indian restaurant, where should he consider opening it? "
   ]
  },
  {
   "cell_type": "markdown",
   "metadata": {},
   "source": [
    "## Target Audience"
   ]
  },
  {
   "cell_type": "markdown",
   "metadata": {},
   "source": [
    ">The entrepreneur who wants to find the location to open reliable South Indian Restaurant"
   ]
  },
  {
   "cell_type": "markdown",
   "metadata": {},
   "source": [
    "## Data"
   ]
  },
  {
   "cell_type": "markdown",
   "metadata": {},
   "source": [
    ">To solve the problem, we need follwing data:\n",
    "+ List of Neighborhoods in [Toronto,Canada](https://en.wikipedia.org/wiki/List_of_postal_codes_of_Canada:_M).\n",
    "+ Latitide and Longitude of these Neighborhood.\n",
    "+ Venue data related to Indian restaurant. This will help us find the neighborhoods that are most suitable to open a South Indian restaurant."
   ]
  },
  {
   "cell_type": "markdown",
   "metadata": {},
   "source": [
    "## Extracting the data"
   ]
  },
  {
   "cell_type": "markdown",
   "metadata": {},
   "source": [
    "+ Scrapping of Toronto Neighborhood data via [Wikipedia](https://en.wikipedia.org/wiki/List_of_postal_codes_of_Canada:_M)\n",
    "+ Getting the latitude and Longitude of these neighborhood using Geocoder package.\n",
    "+ Using Foursquare API to get the venues related to these neighborhood. "
   ]
  }
 ],
 "metadata": {
  "kernelspec": {
   "display_name": "Python 3",
   "language": "python",
   "name": "python3"
  },
  "language_info": {
   "codemirror_mode": {
    "name": "ipython",
    "version": 3
   },
   "file_extension": ".py",
   "mimetype": "text/x-python",
   "name": "python",
   "nbconvert_exporter": "python",
   "pygments_lexer": "ipython3",
   "version": "3.7.3"
  }
 },
 "nbformat": 4,
 "nbformat_minor": 2
}
